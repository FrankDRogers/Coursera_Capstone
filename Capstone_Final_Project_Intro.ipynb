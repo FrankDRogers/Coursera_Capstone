{
 "cells": [
  {
   "cell_type": "markdown",
   "metadata": {},
   "source": [
    "# Introduction/Business Problem:"
   ]
  },
  {
   "cell_type": "markdown",
   "metadata": {},
   "source": [
    "### Location services have created new capabilities and existing businesses are using them more and more each day. Start-ups leveraging new technology and innovative tools have found themselves in a more capable role of being profitable and competitive by using location data to identify consumer patterns, tastes and trends. Location data is available from a number of social media platforms to include but are not limited to Google maps and Foursquare. \n",
    "\n",
    "### The owner of Acme Custom Bookmarks is considering moving her company to a larger market. Acme Custom Bookmarks is a novelty store that sells custom made book marks, book lights and other accessories that improve the customer’s reading experience. She has just hired a Data Scientist, to analyze the data and answer the question: “Given two major cities, which neighborhood, provides the optimal location for a niche book accessory company?”\n",
    "\n",
    "### The start-up is a niche, so it does not face much competition. However, as a niche company, it customer base tends to be very small. If this company chooses the wrong location, it very well may close its doors shortly after opening them.\n"
   ]
  }
 ],
 "metadata": {
  "kernelspec": {
   "display_name": "Python 3",
   "language": "python",
   "name": "python3"
  },
  "language_info": {
   "codemirror_mode": {
    "name": "ipython",
    "version": 3
   },
   "file_extension": ".py",
   "mimetype": "text/x-python",
   "name": "python",
   "nbconvert_exporter": "python",
   "pygments_lexer": "ipython3",
   "version": "3.6.5"
  }
 },
 "nbformat": 4,
 "nbformat_minor": 2
}
